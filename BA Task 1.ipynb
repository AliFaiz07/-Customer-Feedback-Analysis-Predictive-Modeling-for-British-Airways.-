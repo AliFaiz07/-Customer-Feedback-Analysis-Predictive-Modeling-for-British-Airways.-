{
 "cells": [
  {
   "cell_type": "code",
   "execution_count": 28,
   "id": "73086c07-caa3-4c2c-9b84-2cdfe5875974",
   "metadata": {},
   "outputs": [],
   "source": [
    "import requests\n",
    "from bs4 import BeautifulSoup\n",
    "import pandas as pd\n",
    "import numpy as np\n",
    "import string\n",
    "import seaborn as sns\n",
    "import matplotlib.pyplot as plt\n",
    "import re\n",
    "from sklearn.feature_extraction.text import TfidfVectorizer\n",
    "from nltk.tokenize import RegexpTokenizer\n",
    "import nltk"
   ]
  },
  {
   "cell_type": "code",
   "execution_count": 29,
   "id": "a169f2f0-a74e-4c37-a6c6-9814e885c0e3",
   "metadata": {},
   "outputs": [
    {
     "name": "stderr",
     "output_type": "stream",
     "text": [
      "[nltk_data] Downloading package punkt to\n",
      "[nltk_data]     C:\\Users\\HP\\AppData\\Roaming\\nltk_data...\n",
      "[nltk_data]   Package punkt is already up-to-date!\n"
     ]
    },
    {
     "data": {
      "text/plain": [
       "True"
      ]
     },
     "execution_count": 29,
     "metadata": {},
     "output_type": "execute_result"
    }
   ],
   "source": [
    "# Download tokenizer data\n",
    "nltk.download('punkt')"
   ]
  },
  {
   "cell_type": "code",
   "execution_count": 30,
   "id": "d722d854-d175-4ed6-9e9c-e193f4f9b062",
   "metadata": {},
   "outputs": [
    {
     "name": "stdout",
     "output_type": "stream",
     "text": [
      "Scraping page 1\n",
      "  ---> 100 total reviews\n",
      "Scraping page 2\n",
      "  ---> 200 total reviews\n",
      "Scraping page 3\n",
      "  ---> 300 total reviews\n",
      "Scraping page 4\n",
      "  ---> 400 total reviews\n",
      "Scraping page 5\n",
      "  ---> 500 total reviews\n",
      "Scraping page 6\n",
      "  ---> 600 total reviews\n",
      "Scraping page 7\n",
      "  ---> 700 total reviews\n",
      "Scraping page 8\n",
      "  ---> 800 total reviews\n",
      "Scraping page 9\n",
      "  ---> 900 total reviews\n",
      "Scraping page 10\n",
      "  ---> 1000 total reviews\n",
      "Scraping page 11\n",
      "  ---> 1100 total reviews\n",
      "Scraping page 12\n",
      "  ---> 1200 total reviews\n",
      "Scraping page 13\n",
      "  ---> 1300 total reviews\n",
      "Scraping page 14\n",
      "  ---> 1400 total reviews\n",
      "Scraping page 15\n",
      "  ---> 1500 total reviews\n",
      "Scraping page 16\n",
      "  ---> 1600 total reviews\n",
      "Scraping page 17\n",
      "  ---> 1700 total reviews\n",
      "Scraping page 18\n",
      "  ---> 1800 total reviews\n",
      "Scraping page 19\n",
      "  ---> 1900 total reviews\n",
      "Scraping page 20\n",
      "  ---> 2000 total reviews\n",
      "Scraping page 21\n",
      "  ---> 2100 total reviews\n",
      "Scraping page 22\n",
      "  ---> 2200 total reviews\n",
      "Scraping page 23\n",
      "  ---> 2300 total reviews\n",
      "Scraping page 24\n",
      "  ---> 2400 total reviews\n",
      "Scraping page 25\n",
      "  ---> 2500 total reviews\n",
      "Scraping page 26\n",
      "  ---> 2600 total reviews\n",
      "Scraping page 27\n",
      "  ---> 2700 total reviews\n",
      "Scraping page 28\n",
      "  ---> 2800 total reviews\n",
      "Scraping page 29\n",
      "  ---> 2900 total reviews\n",
      "Scraping page 30\n",
      "  ---> 3000 total reviews\n",
      "Scraping page 31\n",
      "  ---> 3100 total reviews\n",
      "Scraping page 32\n",
      "  ---> 3200 total reviews\n",
      "Scraping page 33\n",
      "  ---> 3300 total reviews\n",
      "Scraping page 34\n",
      "  ---> 3400 total reviews\n",
      "Scraping page 35\n",
      "  ---> 3500 total reviews\n",
      "Scraping page 36\n",
      "  ---> 3600 total reviews\n",
      "Scraping page 37\n",
      "  ---> 3700 total reviews\n"
     ]
    }
   ],
   "source": [
    "# Initialize the variables and lists\n",
    "base_url = \"https://www.airlinequality.com/airline-reviews/british-airways\"\n",
    "pages = 37\n",
    "page_size = 100\n",
    "reviews = []\n",
    "\n",
    "# Loop through each page to scrape the reviews\n",
    "for i in range(1, pages + 1):\n",
    "    print(f\"Scraping page {i}\")\n",
    "\n",
    "    # Create the URL to collect links from paginated data\n",
    "    url = f\"{base_url}/page/{i}/?sortby=post_date%3ADesc&pagesize={page_size}\"\n",
    "\n",
    "    # Collect HTML data from this page\n",
    "    response = requests.get(url)\n",
    "\n",
    "    # Parse content\n",
    "    content = response.content\n",
    "    parsed_content = BeautifulSoup(content, 'html.parser')\n",
    "    \n",
    "    # Find all the review paragraphs and add to the reviews list\n",
    "    for para in parsed_content.find_all(\"div\", {\"class\": \"text_content\"}):\n",
    "        reviews.append(para.get_text())\n",
    "\n",
    "    print(f\"  ---> {len(reviews)} total reviews\")\n"
   ]
  },
  {
   "cell_type": "code",
   "execution_count": 31,
   "id": "91536481-afb9-44ca-ae81-395feba7e67b",
   "metadata": {},
   "outputs": [],
   "source": [
    "# Create a DataFrame with the scraped reviews\n",
    "df = pd.DataFrame()\n",
    "df[\"reviews\"] = reviews"
   ]
  },
  {
   "cell_type": "code",
   "execution_count": 32,
   "id": "134acad8-a07b-431d-87a9-ec1a942c1b61",
   "metadata": {},
   "outputs": [],
   "source": [
    "df.to_csv(\"BA_reviews.csv\")\n"
   ]
  },
  {
   "cell_type": "code",
   "execution_count": 33,
   "id": "1954193c-537a-4c95-a395-d3701af8fab8",
   "metadata": {},
   "outputs": [
    {
     "data": {
      "text/plain": [
       "0       Not Verified |  I flew internationally for the...\n",
       "1       ✅ Trip Verified | BA, after subsequent delays ...\n",
       "2       Not Verified |   It is embarrassing to have th...\n",
       "3       ✅ Trip Verified | Flight cancelled due to bad ...\n",
       "4       ✅ Trip Verified |  British Airways oversold my...\n",
       "                              ...                        \n",
       "3695    Flew LHR to Larnaca and return 22nd April and ...\n",
       "3696    LHR-SEA in \"first\" class. The experience was r...\n",
       "3697    I had flight from Vancouver to London and back...\n",
       "3698    London Gatwick to Bridgetown on Avios companio...\n",
       "3699    LHR-PEK-LHR. We travel BA club world often and...\n",
       "Name: reviews, Length: 3700, dtype: object"
      ]
     },
     "execution_count": 33,
     "metadata": {},
     "output_type": "execute_result"
    }
   ],
   "source": [
    "reviews = pd.read_csv(\"BA_reviews.csv\")\n",
    "reviews = reviews.pop('reviews')\n",
    "reviews"
   ]
  },
  {
   "cell_type": "code",
   "execution_count": 34,
   "id": "d7f3d27d-8efb-4f1c-8e56-f97c5948efea",
   "metadata": {},
   "outputs": [],
   "source": [
    "def remove_punctuations(text):\n",
    "    for punctuation in string.punctuation:\n",
    "        text = text.replace(punctuation,'')\n",
    "    return text"
   ]
  },
  {
   "cell_type": "code",
   "execution_count": 35,
   "id": "ae737939-1f2c-48e8-968f-3292de6f983b",
   "metadata": {},
   "outputs": [
    {
     "data": {
      "text/plain": [
       "0       Not Verified   I flew internationally for the ...\n",
       "1         BA after subsequent delays and postponed dep...\n",
       "2       Not Verified    It is embarrassing to have the...\n",
       "3         Flight cancelled due to bad weather BA conta...\n",
       "4          British Airways oversold my LHR to LAX flig...\n",
       "                              ...                        \n",
       "3695    Flew LHR to Larnaca and return 22nd April and ...\n",
       "3696    LHRSEA in first class The experience was reall...\n",
       "3697    I had flight from Vancouver to London and back...\n",
       "3698    London Gatwick to Bridgetown on Avios companio...\n",
       "3699    LHRPEKLHR We travel BA club world often and my...\n",
       "Name: reviews, Length: 3700, dtype: object"
      ]
     },
     "execution_count": 35,
     "metadata": {},
     "output_type": "execute_result"
    }
   ],
   "source": [
    "reviews = reviews.str.replace('Trip Verified |','')\n",
    "reviews = reviews.str.replace('✅','')\n",
    "reviews = reviews.str.replace('|','')\n",
    "reviews = reviews.str.replace(r'\\b(\\w{1,3})\\b','')\n",
    "reviews = reviews.apply(remove_punctuations)\n",
    "reviews "
   ]
  },
  {
   "cell_type": "code",
   "execution_count": 36,
   "id": "05469454-68b0-4970-b0d1-26c7bf482e86",
   "metadata": {},
   "outputs": [
    {
     "data": {
      "text/plain": [
       "(3700,)"
      ]
     },
     "execution_count": 36,
     "metadata": {},
     "output_type": "execute_result"
    }
   ],
   "source": [
    "reviews.shape"
   ]
  },
  {
   "cell_type": "code",
   "execution_count": 37,
   "id": "7bf684fb-4a58-4480-8fda-c886523423b4",
   "metadata": {},
   "outputs": [
    {
     "data": {
      "text/plain": [
       "the        30088\n",
       "to         20111\n",
       "and        18504\n",
       "a          13659\n",
       "was        13092\n",
       "i          10948\n",
       "of          8644\n",
       "in          8487\n",
       "on          7972\n",
       "flight      6614\n",
       "for         6415\n",
       "with        5974\n",
       "is          4773\n",
       "not         4623\n",
       "ba          4534\n",
       "were        4504\n",
       "it          4409\n",
       "that        4397\n",
       "we          4341\n",
       "my          4262\n",
       "but         3957\n",
       "at          3931\n",
       "they        3651\n",
       "this        3619\n",
       "had         3590\n",
       "as          3497\n",
       "have        3382\n",
       "from        3122\n",
       "no          3022\n",
       "service     2827\n",
       "very        2795\n",
       "be          2398\n",
       "seat        2371\n",
       "food        2302\n",
       "so          2227\n",
       "you         2170\n",
       "airways     2163\n",
       "british     2155\n",
       "are         2126\n",
       "crew        2123\n",
       "london      2108\n",
       "seats       2091\n",
       "an          2084\n",
       "good        2049\n",
       "time        2043\n",
       "me          2029\n",
       "cabin       1960\n",
       "class       1921\n",
       "which       1917\n",
       "there       1766\n",
       "Name: count, dtype: int64"
      ]
     },
     "execution_count": 37,
     "metadata": {},
     "output_type": "execute_result"
    }
   ],
   "source": [
    "freq_words = pd.Series(''.join(reviews).lower().split()).value_counts()[:50]\n",
    "freq_words"
   ]
  },
  {
   "cell_type": "code",
   "execution_count": 38,
   "id": "12a14fde-3fed-438e-9a82-5c0072ffdd44",
   "metadata": {},
   "outputs": [
    {
     "name": "stderr",
     "output_type": "stream",
     "text": [
      "C:\\Users\\HP\\AppData\\Local\\Temp\\ipykernel_11104\\4235992646.py:2: FutureWarning: Series.__getitem__ treating keys as positions is deprecated. In a future version, integer keys will always be treated as labels (consistent with DataFrame behavior). To access a value by position, use `ser.iloc[pos]`\n",
      "  freq_words.plot.barh(x=freq_words[0], y=freq_words[1])\n"
     ]
    },
    {
     "data": {
      "image/png": "[encoded data removed]",
      "text/plain": [
       "<Figure size 1000x1000 with 1 Axes>"
      ]
     },
     "metadata": {},
     "output_type": "display_data"
    }
   ],
   "source": [
    "plt.figure(figsize=(10,10))\n",
    "freq_words.plot.barh(x=freq_words[0], y=freq_words[1])\n",
    "plt.show()"
   ]
  },
  {
   "cell_type": "markdown",
   "id": "175df529-612c-4ac0-a9b8-4c87795d900b",
   "metadata": {},
   "source": [
    "## text clustering"
   ]
  },
  {
   "cell_type": "code",
   "execution_count": 39,
   "id": "fe6f6d00-89dc-4754-a6f2-ea7b6373f116",
   "metadata": {},
   "outputs": [
    {
     "data": {
      "text/plain": [
       "2"
      ]
     },
     "execution_count": 39,
     "metadata": {},
     "output_type": "execute_result"
    }
   ],
   "source": [
    "categories = ['negative','positive']\n",
    "num_cat = len(categories)\n",
    "num_cat"
   ]
  },
  {
   "cell_type": "code",
   "execution_count": 40,
   "id": "11131d71-ff6e-445b-ab5d-c0c40b7011cb",
   "metadata": {},
   "outputs": [],
   "source": [
    "# Initialize regex tokenizer\n",
    "tokenizer = RegexpTokenizer(r'\\w+')\n"
   ]
  },
  {
   "cell_type": "code",
   "execution_count": 41,
   "id": "e296699a-ba25-47ae-bdab-aff041f77267",
   "metadata": {},
   "outputs": [],
   "source": [
    "# Define a custom tokenizer function for TfidfVectorizer\n",
    "def custom_tokenizer(text):\n",
    "    return tokenizer.tokenize(text)"
   ]
  },
  {
   "cell_type": "code",
   "execution_count": 42,
   "id": "a4f13d94-899a-40db-8b2b-5f605f0b406c",
   "metadata": {},
   "outputs": [],
   "source": [
    "# Vectorize documents using TF-IDF\n",
    "tf_idf_vect = TfidfVectorizer(lowercase=True, stop_words='english', ngram_range=(1, 1), tokenizer=custom_tokenizer)\n"
   ]
  },
  {
   "cell_type": "code",
   "execution_count": 43,
   "id": "d2790043-b985-4acc-9343-60bc500481d3",
   "metadata": {},
   "outputs": [
    {
     "name": "stderr",
     "output_type": "stream",
     "text": [
      "C:\\Users\\HP\\AppData\\Roaming\\Python\\Python312\\site-packages\\sklearn\\feature_extraction\\text.py:525: UserWarning: The parameter 'token_pattern' will not be used since 'tokenizer' is not None'\n",
      "  warnings.warn(\n"
     ]
    }
   ],
   "source": [
    "# Fit and Transform Text Data\n",
    "reviews_counts = tf_idf_vect.fit_transform(df['reviews'])"
   ]
  },
  {
   "cell_type": "code",
   "execution_count": 44,
   "id": "16c5cb0f-7dc6-42e7-ad1c-611a1dc6a86d",
   "metadata": {},
   "outputs": [
    {
     "name": "stdout",
     "output_type": "stream",
     "text": [
      "(3700, 13881)\n"
     ]
    }
   ],
   "source": [
    "# Check the shape of the count vector\n",
    "print(reviews_counts.shape)"
   ]
  },
  {
   "cell_type": "code",
   "execution_count": 45,
   "id": "b506f722-a9c7-4580-bf02-5a8c8dfcf117",
   "metadata": {},
   "outputs": [
    {
     "name": "stdout",
     "output_type": "stream",
     "text": [
      "0          flight\n",
      "1              ba\n",
      "2         service\n",
      "3            seat\n",
      "4            good\n",
      "5               t\n",
      "6            food\n",
      "7         british\n",
      "8         airways\n",
      "9            crew\n",
      "10          seats\n",
      "11          class\n",
      "12         london\n",
      "13           time\n",
      "14          cabin\n",
      "15       verified\n",
      "16           trip\n",
      "17       business\n",
      "18          staff\n",
      "19       heathrow\n",
      "20        economy\n",
      "21              s\n",
      "22          check\n",
      "23        flights\n",
      "24         return\n",
      "25           club\n",
      "26            lhr\n",
      "27          plane\n",
      "28        airline\n",
      "29          hours\n",
      "30         lounge\n",
      "31           just\n",
      "32       boarding\n",
      "33       aircraft\n",
      "34     experience\n",
      "35     passengers\n",
      "36            new\n",
      "37            fly\n",
      "38            did\n",
      "39           meal\n",
      "40         review\n",
      "41          great\n",
      "42              2\n",
      "43           hour\n",
      "44    comfortable\n",
      "45         really\n",
      "46       airlines\n",
      "47         drinks\n",
      "48       customer\n",
      "49        premium\n",
      "dtype: object\n"
     ]
    }
   ],
   "source": [
    "# To see the top 50 words\n",
    "freq_words = pd.Series(np.array(tf_idf_vect.get_feature_names_out())[reviews_counts.sum(axis=0).A1.argsort()[-50:][::-1]])\n",
    "print(freq_words)"
   ]
  },
  {
   "cell_type": "code",
   "execution_count": 46,
   "id": "3c396089-1228-4038-8ded-6e3a3c5e6256",
   "metadata": {},
   "outputs": [
    {
     "data": {
      "text/plain": [
       "array([1, 1, 1, ..., 0, 0, 0])"
      ]
     },
     "execution_count": 46,
     "metadata": {},
     "output_type": "execute_result"
    }
   ],
   "source": [
    "# import KMeans Model\n",
    "from sklearn.cluster import KMeans\n",
    "\n",
    "# Create Kmeans object and fit it to the training data\n",
    "kmeans = KMeans(n_clusters=num_cat).fit(reviews_counts)\n",
    "\n",
    "# Get the labels using KMeans\n",
    "pred_labels = kmeans.labels_\n",
    "pred_labels"
   ]
  },
  {
   "cell_type": "code",
   "execution_count": 48,
   "id": "7338856b-a803-4814-b529-d8a6ec43d689",
   "metadata": {},
   "outputs": [
    {
     "data": {
      "text/plain": [
       "array([[3.27296869e-04, 8.02978041e-04, 7.77889130e-04, ...,\n",
       "        6.30636379e-05, 9.20507079e-05, 0.00000000e+00],\n",
       "       [7.54476849e-04, 4.29911848e-03, 1.17877052e-03, ...,\n",
       "        0.00000000e+00, 0.00000000e+00, 4.36439835e-05]])"
      ]
     },
     "execution_count": 48,
     "metadata": {},
     "output_type": "execute_result"
    }
   ],
   "source": [
    "cluster_centres = kmeans.cluster_centers_\n",
    "cluster_centres"
   ]
  },
  {
   "cell_type": "code",
   "execution_count": 50,
   "id": "0b5acb00-85e2-4798-8d73-4d4b81a7c6db",
   "metadata": {},
   "outputs": [
    {
     "data": {
      "text/plain": [
       "{0: 2177, 1: 1523}"
      ]
     },
     "execution_count": 50,
     "metadata": {},
     "output_type": "execute_result"
    }
   ],
   "source": [
    "unique , counts = np.unique(pred_labels, return_counts=True)\n",
    "dict(zip(unique, counts))"
   ]
  },
  {
   "cell_type": "code",
   "execution_count": 53,
   "id": "545d7b65-948d-43a5-ab33-70df30799269",
   "metadata": {},
   "outputs": [
    {
     "name": "stdout",
     "output_type": "stream",
     "text": [
      "DBI Score: 12.578863511039819\n",
      "Silhouette Score: 0.006404739866184422\n"
     ]
    }
   ],
   "source": [
    "from sklearn import metrics\n",
    "\n",
    "# Convert sparse matrix to dense array\n",
    "reviews_counts_array = reviews_counts.toarray()\n",
    "\n",
    "# Compute DBI (Davies-Bouldin Index) score\n",
    "dbi = metrics.davies_bouldin_score(reviews_counts_array, pred_labels)\n",
    "\n",
    "# Compute Silhouette Score\n",
    "ss = metrics.silhouette_score(reviews_counts_array, pred_labels, metric='euclidean')\n",
    "\n",
    "# Print the DBI and Silhouette Scores\n",
    "print(\"DBI Score:\", dbi)\n",
    "print(\"Silhouette Score:\", ss)\n"
   ]
  },
  {
   "cell_type": "code",
   "execution_count": 57,
   "id": "1bee727b-98e8-4bb1-8c90-e7ce95aee515",
   "metadata": {},
   "outputs": [
    {
     "name": "stdout",
     "output_type": "stream",
     "text": [
      "                                                 review  labels\n",
      "0     Not Verified   I flew internationally for the ...       1\n",
      "1       BA after subsequent delays and postponed dep...       1\n",
      "2     Not Verified    It is embarrassing to have the...       1\n",
      "3       Flight cancelled due to bad weather BA conta...       1\n",
      "4        British Airways oversold my LHR to LAX flig...       1\n",
      "...                                                 ...     ...\n",
      "3695  Flew LHR to Larnaca and return 22nd April and ...       0\n",
      "3696  LHRSEA in first class The experience was reall...       0\n",
      "3697  I had flight from Vancouver to London and back...       0\n",
      "3698  London Gatwick to Bridgetown on Avios companio...       0\n",
      "3699  LHRPEKLHR We travel BA club world often and my...       0\n",
      "\n",
      "[3700 rows x 2 columns]\n"
     ]
    }
   ],
   "source": [
    "# Create a DataFrame with the reviews and predicted labels\n",
    "df_reviews = pd.DataFrame({'review': reviews, 'labels': pred_labels})\n",
    "\n",
    "# Display the DataFrame\n",
    "print(df_reviews)\n"
   ]
  },
  {
   "cell_type": "code",
   "execution_count": 58,
   "id": "56a82b25-400c-4cde-8a6d-3ffcb4eed30b",
   "metadata": {},
   "outputs": [
    {
     "data": {
      "text/plain": [
       "<seaborn.axisgrid.FacetGrid at 0x11a47b0c410>"
      ]
     },
     "execution_count": 58,
     "metadata": {},
     "output_type": "execute_result"
    },
    {
     "data": {
      "image/png": "[encoded data removed]",
      "text/plain": [
       "<Figure size 500x500 with 1 Axes>"
      ]
     },
     "metadata": {},
     "output_type": "display_data"
    }
   ],
   "source": [
    "sns.displot(df_reviews['labels'], kde = True)"
   ]
  },
  {
   "cell_type": "code",
   "execution_count": 63,
   "id": "6907b9ba-9eaf-49ad-9b91-1c9979e2ca94",
   "metadata": {},
   "outputs": [
    {
     "data": {
      "text/html": [
       "<div>\n",
       "<style scoped>\n",
       "    .dataframe tbody tr th:only-of-type {\n",
       "        vertical-align: middle;\n",
       "    }\n",
       "\n",
       "    .dataframe tbody tr th {\n",
       "        vertical-align: top;\n",
       "    }\n",
       "\n",
       "    .dataframe thead th {\n",
       "        text-align: right;\n",
       "    }\n",
       "</style>\n",
       "<table border=\"1\" class=\"dataframe\">\n",
       "  <thead>\n",
       "    <tr style=\"text-align: right;\">\n",
       "      <th></th>\n",
       "      <th>review</th>\n",
       "      <th>labels</th>\n",
       "    </tr>\n",
       "  </thead>\n",
       "  <tbody>\n",
       "    <tr>\n",
       "      <th>0</th>\n",
       "      <td>Not Verified   I flew internationally for the ...</td>\n",
       "      <td>1</td>\n",
       "    </tr>\n",
       "    <tr>\n",
       "      <th>1</th>\n",
       "      <td>BA after subsequent delays and postponed dep...</td>\n",
       "      <td>1</td>\n",
       "    </tr>\n",
       "    <tr>\n",
       "      <th>2</th>\n",
       "      <td>Not Verified    It is embarrassing to have the...</td>\n",
       "      <td>1</td>\n",
       "    </tr>\n",
       "    <tr>\n",
       "      <th>3</th>\n",
       "      <td>Flight cancelled due to bad weather BA conta...</td>\n",
       "      <td>1</td>\n",
       "    </tr>\n",
       "    <tr>\n",
       "      <th>4</th>\n",
       "      <td>British Airways oversold my LHR to LAX flig...</td>\n",
       "      <td>1</td>\n",
       "    </tr>\n",
       "    <tr>\n",
       "      <th>...</th>\n",
       "      <td>...</td>\n",
       "      <td>...</td>\n",
       "    </tr>\n",
       "    <tr>\n",
       "      <th>3672</th>\n",
       "      <td>Very disappointed with my flight back from Mun...</td>\n",
       "      <td>1</td>\n",
       "    </tr>\n",
       "    <tr>\n",
       "      <th>3673</th>\n",
       "      <td>I flew with British Airways with my mother fro...</td>\n",
       "      <td>1</td>\n",
       "    </tr>\n",
       "    <tr>\n",
       "      <th>3679</th>\n",
       "      <td>I flew GlasgowGatwickVegasGatwickGlasgow I hav...</td>\n",
       "      <td>1</td>\n",
       "    </tr>\n",
       "    <tr>\n",
       "      <th>3687</th>\n",
       "      <td>LGWJER return Out on B737 back on A319 both fl...</td>\n",
       "      <td>1</td>\n",
       "    </tr>\n",
       "    <tr>\n",
       "      <th>3689</th>\n",
       "      <td>Travelled from OZ to watch start of TDF in Lee...</td>\n",
       "      <td>1</td>\n",
       "    </tr>\n",
       "  </tbody>\n",
       "</table>\n",
       "<p>1523 rows × 2 columns</p>\n",
       "</div>"
      ],
      "text/plain": [
       "                                                 review  labels\n",
       "0     Not Verified   I flew internationally for the ...       1\n",
       "1       BA after subsequent delays and postponed dep...       1\n",
       "2     Not Verified    It is embarrassing to have the...       1\n",
       "3       Flight cancelled due to bad weather BA conta...       1\n",
       "4        British Airways oversold my LHR to LAX flig...       1\n",
       "...                                                 ...     ...\n",
       "3672  Very disappointed with my flight back from Mun...       1\n",
       "3673  I flew with British Airways with my mother fro...       1\n",
       "3679  I flew GlasgowGatwickVegasGatwickGlasgow I hav...       1\n",
       "3687  LGWJER return Out on B737 back on A319 both fl...       1\n",
       "3689  Travelled from OZ to watch start of TDF in Lee...       1\n",
       "\n",
       "[1523 rows x 2 columns]"
      ]
     },
     "execution_count": 63,
     "metadata": {},
     "output_type": "execute_result"
    }
   ],
   "source": [
    "negative_review = df_reviews[df_reviews['labels']==1]\n",
    "negative_review"
   ]
  },
  {
   "cell_type": "code",
   "execution_count": 64,
   "id": "7f4f6f3b-0d85-49a7-a7c5-4a1316b7ef4f",
   "metadata": {},
   "outputs": [
    {
     "data": {
      "text/html": [
       "<div>\n",
       "<style scoped>\n",
       "    .dataframe tbody tr th:only-of-type {\n",
       "        vertical-align: middle;\n",
       "    }\n",
       "\n",
       "    .dataframe tbody tr th {\n",
       "        vertical-align: top;\n",
       "    }\n",
       "\n",
       "    .dataframe thead th {\n",
       "        text-align: right;\n",
       "    }\n",
       "</style>\n",
       "<table border=\"1\" class=\"dataframe\">\n",
       "  <thead>\n",
       "    <tr style=\"text-align: right;\">\n",
       "      <th></th>\n",
       "      <th>review</th>\n",
       "      <th>labels</th>\n",
       "    </tr>\n",
       "  </thead>\n",
       "  <tbody>\n",
       "    <tr>\n",
       "      <th>8</th>\n",
       "      <td>Not Verified    Singapore to Heathrow Business...</td>\n",
       "      <td>0</td>\n",
       "    </tr>\n",
       "    <tr>\n",
       "      <th>14</th>\n",
       "      <td>This is a route I fly regularly Used first c...</td>\n",
       "      <td>0</td>\n",
       "    </tr>\n",
       "    <tr>\n",
       "      <th>15</th>\n",
       "      <td>While BA may have made some positive improv...</td>\n",
       "      <td>0</td>\n",
       "    </tr>\n",
       "    <tr>\n",
       "      <th>16</th>\n",
       "      <td>British Airways new Club Suite is a marked i...</td>\n",
       "      <td>0</td>\n",
       "    </tr>\n",
       "    <tr>\n",
       "      <th>17</th>\n",
       "      <td>Four very pleasant on time flights with fri...</td>\n",
       "      <td>0</td>\n",
       "    </tr>\n",
       "    <tr>\n",
       "      <th>...</th>\n",
       "      <td>...</td>\n",
       "      <td>...</td>\n",
       "    </tr>\n",
       "    <tr>\n",
       "      <th>3695</th>\n",
       "      <td>Flew LHR to Larnaca and return 22nd April and ...</td>\n",
       "      <td>0</td>\n",
       "    </tr>\n",
       "    <tr>\n",
       "      <th>3696</th>\n",
       "      <td>LHRSEA in first class The experience was reall...</td>\n",
       "      <td>0</td>\n",
       "    </tr>\n",
       "    <tr>\n",
       "      <th>3697</th>\n",
       "      <td>I had flight from Vancouver to London and back...</td>\n",
       "      <td>0</td>\n",
       "    </tr>\n",
       "    <tr>\n",
       "      <th>3698</th>\n",
       "      <td>London Gatwick to Bridgetown on Avios companio...</td>\n",
       "      <td>0</td>\n",
       "    </tr>\n",
       "    <tr>\n",
       "      <th>3699</th>\n",
       "      <td>LHRPEKLHR We travel BA club world often and my...</td>\n",
       "      <td>0</td>\n",
       "    </tr>\n",
       "  </tbody>\n",
       "</table>\n",
       "<p>2177 rows × 2 columns</p>\n",
       "</div>"
      ],
      "text/plain": [
       "                                                 review  labels\n",
       "8     Not Verified    Singapore to Heathrow Business...       0\n",
       "14      This is a route I fly regularly Used first c...       0\n",
       "15       While BA may have made some positive improv...       0\n",
       "16      British Airways new Club Suite is a marked i...       0\n",
       "17       Four very pleasant on time flights with fri...       0\n",
       "...                                                 ...     ...\n",
       "3695  Flew LHR to Larnaca and return 22nd April and ...       0\n",
       "3696  LHRSEA in first class The experience was reall...       0\n",
       "3697  I had flight from Vancouver to London and back...       0\n",
       "3698  London Gatwick to Bridgetown on Avios companio...       0\n",
       "3699  LHRPEKLHR We travel BA club world often and my...       0\n",
       "\n",
       "[2177 rows x 2 columns]"
      ]
     },
     "execution_count": 64,
     "metadata": {},
     "output_type": "execute_result"
    }
   ],
   "source": [
    "positive_review = df_reviews[df_reviews['labels']==0]\n",
    "positive_review"
   ]
  },
  {
   "cell_type": "code",
   "execution_count": null,
   "id": "0cf94735-2e69-4cf1-a94a-93be783707cd",
   "metadata": {},
   "outputs": [],
   "source": []
  }
 ],
 "metadata": {
  "kernelspec": {
   "display_name": "Python 3 (ipykernel)",
   "language": "python",
   "name": "python3"
  },
  "language_info": {
   "codemirror_mode": {
    "name": "ipython",
    "version": 3
   },
   "file_extension": ".py",
   "mimetype": "text/x-python",
   "name": "python",
   "nbconvert_exporter": "python",
   "pygments_lexer": "ipython3",
   "version": "3.12.2"
  }
 },
 "nbformat": 4,
 "nbformat_minor": 5
}
